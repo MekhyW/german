{
 "cells": [
  {
   "cell_type": "markdown",
   "metadata": {},
   "source": [
    "# Projeto german credit risk - modelagem e avaliação"
   ]
  },
  {
   "cell_type": "code",
   "execution_count": 39,
   "metadata": {},
   "outputs": [],
   "source": [
    "import pandas as pd\n",
    "import matplotlib.pyplot as plt\n",
    "import sklearn as sk\n",
    "from sklearn.preprocessing import StandardScaler\n",
    "from sklearn.linear_model import ElasticNet\n",
    "from sklearn.model_selection import StratifiedShuffleSplit\n",
    "from sklearn.base import BaseEstimator, TransformerMixin\n",
    "from sklearn.svm import SVC\n",
    "from sklearn.ensemble import RandomForestClassifier\n",
    "from sklearn.neighbors import KNeighborsClassifier\n",
    "from sklearn.linear_model import SGDClassifier\n",
    "from sklearn.model_selection import GridSearchCV\n",
    "from sklearn.pipeline import Pipeline\n",
    "from sklearn.model_selection import cross_val_score, cross_val_predict\n",
    "from sklearn.metrics import mean_squared_error, precision_score, recall_score, precision_recall_curve\n",
    "import numpy as np\n",
    "\n",
    "from pathlib import Path"
   ]
  },
  {
   "cell_type": "code",
   "execution_count": 40,
   "metadata": {},
   "outputs": [],
   "source": [
    "DATA_DIR = Path.cwd().parent / 'data'"
   ]
  },
  {
   "cell_type": "code",
   "execution_count": 41,
   "metadata": {},
   "outputs": [
    {
     "data": {
      "text/plain": [
       "(1000, 42)"
      ]
     },
     "execution_count": 41,
     "metadata": {},
     "output_type": "execute_result"
    }
   ],
   "source": [
    "data_encoded = pd.read_csv(DATA_DIR / 'data_encoded.csv')\n",
    "data_encoded.shape"
   ]
  },
  {
   "cell_type": "code",
   "execution_count": 42,
   "metadata": {},
   "outputs": [
    {
     "name": "stdout",
     "output_type": "stream",
     "text": [
      "(800, 42)\n",
      "(200, 42)\n"
     ]
    }
   ],
   "source": [
    "# Split estratificado pela variável dependente\n",
    "\n",
    "split = StratifiedShuffleSplit(n_splits=1, test_size=0.2, random_state=42)\n",
    "for train_index, test_index in split.split(data_encoded, data_encoded[\"target\"]):\n",
    "    strat_train_set = data_encoded.loc[train_index]\n",
    "    strat_test_set = data_encoded.loc[test_index]\n",
    "\n",
    "print(strat_train_set.shape)\n",
    "print(strat_test_set.shape)"
   ]
  },
  {
   "cell_type": "code",
   "execution_count": 43,
   "metadata": {},
   "outputs": [],
   "source": [
    "# Separando variáveis dependentes e independentes\n",
    "\n",
    "dataset_features = strat_train_set.drop(\"target\", axis=1)\n",
    "test_features = strat_test_set.drop(\"target\", axis=1)\n",
    "dataset_labels = strat_train_set[\"target\"].copy()\n",
    "test_labels = strat_test_set[\"target\"].copy()"
   ]
  },
  {
   "cell_type": "code",
   "execution_count": 44,
   "metadata": {},
   "outputs": [],
   "source": [
    "# Transformando as labels em booleanos (True para good customer e False para bad customer)\n",
    "\n",
    "dataset_labels = (dataset_labels == 1)\n",
    "test_labels = (test_labels == 1)"
   ]
  },
  {
   "cell_type": "markdown",
   "metadata": {},
   "source": [
    "### Métrica escolhida: Acurácia, priorizando Precisão (\"It is worse to class a customer as good when they are bad (5), than it is to class a customer as bad when they are good (1).\")"
   ]
  },
  {
   "cell_type": "code",
   "execution_count": 45,
   "metadata": {},
   "outputs": [],
   "source": [
    "class TrivialClassifier(BaseEstimator, TransformerMixin):\n",
    "    def fit(self, X, y=None):\n",
    "        pass\n",
    "\n",
    "    def predict(self, X):\n",
    "        return np.ones((len(X), 1), dtype=bool)"
   ]
  },
  {
   "cell_type": "code",
   "execution_count": 46,
   "metadata": {},
   "outputs": [],
   "source": [
    "# Modelos preliminares (sem scaling, sem feature selection, sem hyperparameter tuning, etc)\n",
    "\n",
    "trivial = TrivialClassifier()\n",
    "smv_lin = SVC(kernel=\"linear\", random_state=42)\n",
    "svm_poly = SVC(kernel=\"poly\", random_state=42)\n",
    "smv_rbf = SVC(kernel=\"rbf\", random_state=42)\n",
    "rfc = RandomForestClassifier(random_state=42)\n",
    "knn = KNeighborsClassifier()\n",
    "sgd = SGDClassifier(random_state=42)\n",
    "\n",
    "models = [trivial, smv_lin, svm_poly, smv_rbf, rfc, knn, sgd]"
   ]
  },
  {
   "cell_type": "code",
   "execution_count": 47,
   "metadata": {},
   "outputs": [
    {
     "name": "stdout",
     "output_type": "stream",
     "text": [
      "TrivialClassifier() 0.7\n"
     ]
    },
    {
     "name": "stdout",
     "output_type": "stream",
     "text": [
      "SVC(kernel='linear', random_state=42) 0.76125\n",
      "SVC(kernel='poly', random_state=42) 0.74875\n",
      "SVC(random_state=42) 0.7475\n",
      "RandomForestClassifier(random_state=42) 0.755\n",
      "KNeighborsClassifier() 0.73\n",
      "SGDClassifier(random_state=42) 0.7075\n"
     ]
    }
   ],
   "source": [
    "for model in models:\n",
    "    model.fit(dataset_features, dataset_labels)\n",
    "    scores = cross_val_score(model, dataset_features, dataset_labels, scoring=\"accuracy\", cv=10)\n",
    "    print(model, scores.mean())"
   ]
  },
  {
   "cell_type": "code",
   "execution_count": 48,
   "metadata": {},
   "outputs": [
    {
     "name": "stdout",
     "output_type": "stream",
     "text": [
      "{'C': 10}\n",
      "SVC(C=10, kernel='linear', random_state=42)\n",
      "0.765\n",
      "{'mean_fit_time': array([0.06272113, 0.09764657, 0.12909291, 0.16961341]), 'std_fit_time': array([0.0136026 , 0.03174012, 0.02838571, 0.05526962]), 'mean_score_time': array([0.00174599, 0.00288913, 0.00159662, 0.00220697]), 'std_score_time': array([0.00190013, 0.00155036, 0.00195577, 0.00191976]), 'param_C': masked_array(data=[5, 10, 15, 20],\n",
      "             mask=[False, False, False, False],\n",
      "       fill_value='?',\n",
      "            dtype=object), 'params': [{'C': 5}, {'C': 10}, {'C': 15}, {'C': 20}], 'split0_test_score': array([0.775 , 0.7875, 0.7875, 0.775 ]), 'split1_test_score': array([0.75, 0.75, 0.75, 0.75]), 'split2_test_score': array([0.675, 0.675, 0.675, 0.675]), 'split3_test_score': array([0.8125, 0.8125, 0.8125, 0.8125]), 'split4_test_score': array([0.8125, 0.8125, 0.8   , 0.8   ]), 'split5_test_score': array([0.775, 0.775, 0.775, 0.775]), 'split6_test_score': array([0.825, 0.825, 0.825, 0.825]), 'split7_test_score': array([0.7375, 0.7375, 0.7375, 0.7375]), 'split8_test_score': array([0.7375, 0.7375, 0.725 , 0.725 ]), 'split9_test_score': array([0.7375, 0.7375, 0.7375, 0.7375]), 'mean_test_score': array([0.76375, 0.765  , 0.7625 , 0.76125]), 'std_test_score': array([0.04346335, 0.04394599, 0.04366062, 0.04310235]), 'rank_test_score': array([2, 1, 3, 4]), 'split0_train_score': array([0.78194444, 0.78194444, 0.78055556, 0.78055556]), 'split1_train_score': array([0.7875, 0.7875, 0.7875, 0.7875]), 'split2_train_score': array([0.79861111, 0.80555556, 0.80138889, 0.80277778]), 'split3_train_score': array([0.79305556, 0.79444444, 0.79444444, 0.79583333]), 'split4_train_score': array([0.78888889, 0.78472222, 0.78888889, 0.79027778]), 'split5_train_score': array([0.79027778, 0.7875    , 0.7875    , 0.7875    ]), 'split6_train_score': array([0.78611111, 0.78472222, 0.78472222, 0.78472222]), 'split7_train_score': array([0.79722222, 0.79722222, 0.79722222, 0.79861111]), 'split8_train_score': array([0.79166667, 0.79166667, 0.79444444, 0.79444444]), 'split9_train_score': array([0.79166667, 0.79305556, 0.79305556, 0.79166667]), 'mean_train_score': array([0.79069444, 0.79083333, 0.79097222, 0.79138889]), 'std_train_score': array([0.00473242, 0.00672429, 0.00593334, 0.00635862])}\n"
     ]
    }
   ],
   "source": [
    "# Otimizar o hiperparametro C do SVM linear com GridSearchCV\n",
    "\n",
    "param_grid = [\n",
    "    {'C': [5, 10, 15, 20]}\n",
    "]\n",
    "\n",
    "svm_lin = SVC(kernel=\"linear\", random_state=42)\n",
    "grid_search = GridSearchCV(svm_lin, param_grid, cv=10, scoring='accuracy', return_train_score=True)\n",
    "grid_search.fit(dataset_features, dataset_labels)\n",
    "\n",
    "print(grid_search.best_params_)\n",
    "print(grid_search.best_estimator_)\n",
    "print(grid_search.best_score_)\n",
    "print(grid_search.cv_results_)"
   ]
  },
  {
   "cell_type": "code",
   "execution_count": 49,
   "metadata": {},
   "outputs": [],
   "source": [
    "svc_pipe = Pipeline([\n",
    "    (\"scaler\", StandardScaler()),\n",
    "    (\"svc\", SVC(kernel=\"linear\", C=10, random_state=42))\n",
    "])"
   ]
  },
  {
   "cell_type": "code",
   "execution_count": 50,
   "metadata": {},
   "outputs": [],
   "source": [
    "final_model = svc_pipe.fit(dataset_features, dataset_labels)"
   ]
  },
  {
   "cell_type": "code",
   "execution_count": 51,
   "metadata": {},
   "outputs": [],
   "source": [
    "y_scores = cross_val_predict(\n",
    "    final_model,\n",
    "    dataset_features,\n",
    "    dataset_labels,\n",
    "    cv=3,\n",
    "    method=\"decision_function\",\n",
    "    n_jobs=-1,\n",
    ")"
   ]
  },
  {
   "cell_type": "code",
   "execution_count": 52,
   "metadata": {},
   "outputs": [
    {
     "data": {
      "image/png": "[encoded data removed]",
      "text/plain": [
       "<Figure size 800x400 with 1 Axes>"
      ]
     },
     "metadata": {},
     "output_type": "display_data"
    }
   ],
   "source": [
    "precisions, recalls, thresholds = precision_recall_curve(dataset_labels, y_scores)\n",
    "\n",
    "plt.figure(figsize=(8, 4))\n",
    "\n",
    "plt.plot(thresholds, precisions[:-1], \"b--\", label=\"Precision\", linewidth=2)\n",
    "plt.plot(thresholds, recalls[:-1], \"g-\", label=\"Recall\", linewidth=2)\n",
    "\n",
    "plt.xlabel(\"Threshold\", fontsize=16)\n",
    "plt.legend(loc=\"upper left\", fontsize=16)\n",
    "plt.show()"
   ]
  },
  {
   "cell_type": "code",
   "execution_count": 53,
   "metadata": {},
   "outputs": [
    {
     "data": {
      "text/plain": [
       "1.3751787971412561"
      ]
     },
     "execution_count": 53,
     "metadata": {},
     "output_type": "execute_result"
    }
   ],
   "source": [
    "# Queremos um threshold que garanta um precision de 90%\n",
    "\n",
    "threshold_90_precision = thresholds[np.argmax(precisions >= 0.9)]\n",
    "threshold_90_precision"
   ]
  },
  {
   "cell_type": "code",
   "execution_count": 54,
   "metadata": {},
   "outputs": [
    {
     "name": "stdout",
     "output_type": "stream",
     "text": [
      "Precision: 0.9013157894736842\n",
      "Recall: 0.48928571428571427\n"
     ]
    }
   ],
   "source": [
    "print('Precision: {}'.format(precision_score(dataset_labels, y_scores >= threshold_90_precision)))\n",
    "print('Recall: {}'.format(recall_score(dataset_labels, y_scores >= threshold_90_precision)))"
   ]
  },
  {
   "cell_type": "code",
   "execution_count": 55,
   "metadata": {},
   "outputs": [
    {
     "name": "stdout",
     "output_type": "stream",
     "text": [
      "Precision: 0.8051948051948052\n",
      "Recall: 0.8857142857142857\n"
     ]
    }
   ],
   "source": [
    "# Testando o modelo final no conjunto de teste\n",
    "\n",
    "final_predictions = final_model.predict(test_features)\n",
    "print('Precision: {}'.format(precision_score(test_labels, final_predictions)))\n",
    "print('Recall: {}'.format(recall_score(test_labels, final_predictions)))"
   ]
  },
  {
   "cell_type": "markdown",
   "metadata": {},
   "source": [
    "### Salvar o modelo final em formato pickle"
   ]
  },
  {
   "cell_type": "code",
   "execution_count": 56,
   "metadata": {},
   "outputs": [
    {
     "data": {
      "text/plain": [
       "['final_model.pkl']"
      ]
     },
     "execution_count": 56,
     "metadata": {},
     "output_type": "execute_result"
    }
   ],
   "source": [
    "import joblib\n",
    "\n",
    "joblib.dump(final_model, \"final_model.pkl\")"
   ]
  }
 ],
 "metadata": {
  "kernelspec": {
   "display_name": "Python 3",
   "language": "python",
   "name": "python3"
  },
  "language_info": {
   "codemirror_mode": {
    "name": "ipython",
    "version": 3
   },
   "file_extension": ".py",
   "mimetype": "text/x-python",
   "name": "python",
   "nbconvert_exporter": "python",
   "pygments_lexer": "ipython3",
   "version": "3.11.0"
  },
  "orig_nbformat": 4
 },
 "nbformat": 4,
 "nbformat_minor": 2
}
